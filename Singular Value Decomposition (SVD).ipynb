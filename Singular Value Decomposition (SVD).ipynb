{
 "cells": [
  {
   "cell_type": "code",
   "execution_count": 4,
   "id": "65d02433",
   "metadata": {},
   "outputs": [],
   "source": [
    "from IPython.core.interactiveshell import InteractiveShell\n",
    "InteractiveShell.ast_node_interactivity = \"all\""
   ]
  },
  {
   "cell_type": "code",
   "execution_count": 5,
   "id": "b79434a3",
   "metadata": {},
   "outputs": [],
   "source": [
    "import pandas as pd\n",
    "import numpy as np\n",
    "import math\n",
    "from scipy.spatial import distance\n",
    "from sklearn.preprocessing import MinMaxScaler\n",
    "from sklearn.preprocessing import StandardScaler\n"
   ]
  },
  {
   "cell_type": "markdown",
   "id": "0eab5047",
   "metadata": {},
   "source": [
    "### EXAMPLE ONE - USER MOVIE RATINGS"
   ]
  },
  {
   "cell_type": "code",
   "execution_count": 8,
   "id": "b6768093",
   "metadata": {},
   "outputs": [],
   "source": [
    "def MatrixFactorization(data_file, target_u, target_m):\n",
    "    \n",
    "    #to read the file with index col\n",
    "    df_utility = pd.read_csv(data_file).set_index(\"movies\") \n",
    "    print(df_utility.head())\n",
    "    \n",
    "    cols = list(df_utility.columns)\n",
    "    indices = list(df_utility.index)\n",
    "\n",
    "    #Decompose the utility matrix into three matrices (U, Σ, V⊺) using SVD\n",
    "    U, S, Vh = np.linalg.svd(df_utility, full_matrices=False)\n",
    "    \n",
    "    # create n x n Sigma matrix\n",
    "    Sigma = np.diag(S)\n",
    "    \n",
    "    #approximate the original matrix by considering only the first k singular values\n",
    "    #reconstruct the utility matrix using the reduced matrices\n",
    "    reconstruct_matrix = U.dot(Sigma.dot(Vh))\n",
    "    \n",
    "    #round the values in the reconstructed matrix to the nearest integer\n",
    "    reconstruct_matrix = np.round(reconstruct_matrix, 2)\n",
    "    \n",
    "    #Repair: estimations that fall between 1 and 5 (e.g., you can set any value < 1 to 1 and any value > 5 to 5).\n",
    "    for i in range(len(reconstruct_matrix)):\n",
    "        for j in range(len(reconstruct_matrix[i])):\n",
    "            if reconstruct_matrix[i][j] <= 0:\n",
    "                reconstruct_matrix[i][j] = 1\n",
    "            elif reconstruct_matrix[i][j] > 5:\n",
    "                reconstruct_matrix[i][j] = 5\n",
    "                \n",
    "    df_movie_prediction = pd.DataFrame(reconstruct_matrix, index=indices, columns=cols)\n",
    "    rating = df_movie_prediction.loc[target_m, target_u]\n",
    "    \n",
    "    return df_movie_prediction, rating"
   ]
  },
  {
   "cell_type": "code",
   "execution_count": 9,
   "id": "06979f56",
   "metadata": {},
   "outputs": [
    {
     "name": "stdout",
     "output_type": "stream",
     "text": [
      "        u1  u2  u3  u4  u5  u6  u7  u8  u9  u10  u11  u12\n",
      "movies                                                   \n",
      "m1       1   0   3   0   0   5   0   0   5    0    4    0\n",
      "m2       0   0   5   4   0   0   4   0   0    2    1    3\n",
      "m3       2   4   0   1   2   0   3   0   4    3    5    0\n",
      "m4       0   2   4   0   5   0   0   4   0    0    2    0\n",
      "m5       0   0   4   3   4   2   0   0   0    0    2    5\n"
     ]
    },
    {
     "data": {
      "text/html": [
       "<div>\n",
       "<style scoped>\n",
       "    .dataframe tbody tr th:only-of-type {\n",
       "        vertical-align: middle;\n",
       "    }\n",
       "\n",
       "    .dataframe tbody tr th {\n",
       "        vertical-align: top;\n",
       "    }\n",
       "\n",
       "    .dataframe thead th {\n",
       "        text-align: right;\n",
       "    }\n",
       "</style>\n",
       "<table border=\"1\" class=\"dataframe\">\n",
       "  <thead>\n",
       "    <tr style=\"text-align: right;\">\n",
       "      <th></th>\n",
       "      <th>u1</th>\n",
       "      <th>u2</th>\n",
       "      <th>u3</th>\n",
       "      <th>u4</th>\n",
       "      <th>u5</th>\n",
       "      <th>u6</th>\n",
       "      <th>u7</th>\n",
       "      <th>u8</th>\n",
       "      <th>u9</th>\n",
       "      <th>u10</th>\n",
       "      <th>u11</th>\n",
       "      <th>u12</th>\n",
       "    </tr>\n",
       "  </thead>\n",
       "  <tbody>\n",
       "    <tr>\n",
       "      <th>m1</th>\n",
       "      <td>1.0</td>\n",
       "      <td>1.0</td>\n",
       "      <td>3.0</td>\n",
       "      <td>1.0</td>\n",
       "      <td>1.0</td>\n",
       "      <td>5.0</td>\n",
       "      <td>1.0</td>\n",
       "      <td>1.0</td>\n",
       "      <td>5.0</td>\n",
       "      <td>1.0</td>\n",
       "      <td>4.0</td>\n",
       "      <td>1.0</td>\n",
       "    </tr>\n",
       "    <tr>\n",
       "      <th>m2</th>\n",
       "      <td>1.0</td>\n",
       "      <td>1.0</td>\n",
       "      <td>5.0</td>\n",
       "      <td>4.0</td>\n",
       "      <td>1.0</td>\n",
       "      <td>1.0</td>\n",
       "      <td>4.0</td>\n",
       "      <td>1.0</td>\n",
       "      <td>1.0</td>\n",
       "      <td>2.0</td>\n",
       "      <td>1.0</td>\n",
       "      <td>3.0</td>\n",
       "    </tr>\n",
       "    <tr>\n",
       "      <th>m3</th>\n",
       "      <td>2.0</td>\n",
       "      <td>4.0</td>\n",
       "      <td>1.0</td>\n",
       "      <td>1.0</td>\n",
       "      <td>2.0</td>\n",
       "      <td>1.0</td>\n",
       "      <td>3.0</td>\n",
       "      <td>1.0</td>\n",
       "      <td>4.0</td>\n",
       "      <td>3.0</td>\n",
       "      <td>5.0</td>\n",
       "      <td>1.0</td>\n",
       "    </tr>\n",
       "    <tr>\n",
       "      <th>m4</th>\n",
       "      <td>1.0</td>\n",
       "      <td>2.0</td>\n",
       "      <td>4.0</td>\n",
       "      <td>1.0</td>\n",
       "      <td>5.0</td>\n",
       "      <td>1.0</td>\n",
       "      <td>1.0</td>\n",
       "      <td>4.0</td>\n",
       "      <td>1.0</td>\n",
       "      <td>1.0</td>\n",
       "      <td>2.0</td>\n",
       "      <td>1.0</td>\n",
       "    </tr>\n",
       "    <tr>\n",
       "      <th>m5</th>\n",
       "      <td>1.0</td>\n",
       "      <td>1.0</td>\n",
       "      <td>4.0</td>\n",
       "      <td>3.0</td>\n",
       "      <td>4.0</td>\n",
       "      <td>2.0</td>\n",
       "      <td>1.0</td>\n",
       "      <td>1.0</td>\n",
       "      <td>1.0</td>\n",
       "      <td>1.0</td>\n",
       "      <td>2.0</td>\n",
       "      <td>5.0</td>\n",
       "    </tr>\n",
       "    <tr>\n",
       "      <th>m6</th>\n",
       "      <td>1.0</td>\n",
       "      <td>1.0</td>\n",
       "      <td>3.0</td>\n",
       "      <td>1.0</td>\n",
       "      <td>3.0</td>\n",
       "      <td>1.0</td>\n",
       "      <td>1.0</td>\n",
       "      <td>2.0</td>\n",
       "      <td>1.0</td>\n",
       "      <td>1.0</td>\n",
       "      <td>4.0</td>\n",
       "      <td>1.0</td>\n",
       "    </tr>\n",
       "  </tbody>\n",
       "</table>\n",
       "</div>"
      ],
      "text/plain": [
       "     u1   u2   u3   u4   u5   u6   u7   u8   u9  u10  u11  u12\n",
       "m1  1.0  1.0  3.0  1.0  1.0  5.0  1.0  1.0  5.0  1.0  4.0  1.0\n",
       "m2  1.0  1.0  5.0  4.0  1.0  1.0  4.0  1.0  1.0  2.0  1.0  3.0\n",
       "m3  2.0  4.0  1.0  1.0  2.0  1.0  3.0  1.0  4.0  3.0  5.0  1.0\n",
       "m4  1.0  2.0  4.0  1.0  5.0  1.0  1.0  4.0  1.0  1.0  2.0  1.0\n",
       "m5  1.0  1.0  4.0  3.0  4.0  2.0  1.0  1.0  1.0  1.0  2.0  5.0\n",
       "m6  1.0  1.0  3.0  1.0  3.0  1.0  1.0  2.0  1.0  1.0  4.0  1.0"
      ]
     },
     "execution_count": 9,
     "metadata": {},
     "output_type": "execute_result"
    },
    {
     "data": {
      "text/plain": [
       "1.0"
      ]
     },
     "execution_count": 9,
     "metadata": {},
     "output_type": "execute_result"
    }
   ],
   "source": [
    "data_file = \"f22_utility_mat.csv\"\n",
    "\n",
    "# target user and movie, respectively\n",
    "target_u, target_m = \"u5\", \"m2\" \n",
    "\n",
    "df_MFPrediction, rating_MF = MatrixFactorization(data_file, target_u, target_m)\n",
    "df_MFPrediction\n",
    "rating_MF"
   ]
  },
  {
   "cell_type": "markdown",
   "id": "2b548127",
   "metadata": {},
   "source": [
    "### EXAMPLE TWO - BOOK RATINGS"
   ]
  },
  {
   "cell_type": "code",
   "execution_count": 13,
   "id": "2b8d9cdc",
   "metadata": {},
   "outputs": [],
   "source": [
    "#Implement matrix factorization algorithm using Singular Value Decomposition (SVD)\n",
    "#to predict the missing ratings and recommend the top 2 genres for a target user.\n",
    "def GenreMatrixFactorization(csv_file_name, target_u, k=2):\n",
    "    \n",
    "    #read the genre ratings csv\n",
    "    genre_ratings = pd.read_csv(csv_file_name)\n",
    "    print(genre_ratings.head())\n",
    "    genre_ratings.drop(columns=['genres'])   \n",
    "    \n",
    "    \n",
    "    cols = list(genre_ratings.columns)[1:]\n",
    "    indices = list(genre_ratings[\"genres\"])\n",
    "    \n",
    "    #Decompose the utility matrix into three matrices (U, Σ, V⊺) using SVD\n",
    "    U, S, Vh = np.linalg.svd(genre_ratings.drop(columns=['genres']), full_matrices=False)\n",
    "    \n",
    "    # create n x n Sigma matrix\n",
    "    Sigma = np.diag(S)\n",
    "    \n",
    "    #approximate the original matrix by considering only the first k singular values\n",
    "    #reconstruct the utility matrix using the reduced matrices\n",
    "    reconstruct_matrix = U[:,:k].dot(Sigma[0:k,:k].dot(Vh[:k,:]))\n",
    "    \n",
    "    #round the values in the reconstructed matrix to the nearest integer\n",
    "    reconstruct_matrix = np.round(reconstruct_matrix)\n",
    "    \n",
    "    #adjust the estimated ratings to ensure they fall within the 1 to 10 range\n",
    "    for i in range(len(reconstruct_matrix)):\n",
    "        for j in range(len(reconstruct_matrix[i])):\n",
    "            if reconstruct_matrix[i][j] <= 0:\n",
    "                reconstruct_matrix[i][j] = 1\n",
    "            elif reconstruct_matrix[i][j] > 10:\n",
    "                reconstruct_matrix[i][j] = 10\n",
    "    \n",
    "    df_genre_prediction = pd.DataFrame(reconstruct_matrix, index=indices, columns=cols)\n",
    "    \n",
    "    #Identify the top K genres that the target user is predicted to rate the highest and return them as a dictionary\n",
    "    #along with the predicted ratings dataframe.\n",
    "    ratings_target_u = df_genre_prediction[target_u]\n",
    "    top_genres = {indices[i]:ratings_target_u[i] for i in range(len(indices))}\n",
    "    top_genres = dict(sorted(top_genres.items(), key=lambda item: item[1], reverse=True)[:k])\n",
    "    \n",
    "    return df_genre_prediction, top_genres"
   ]
  },
  {
   "cell_type": "code",
   "execution_count": 14,
   "id": "967cb2ba",
   "metadata": {},
   "outputs": [
    {
     "name": "stdout",
     "output_type": "stream",
     "text": [
      "  genres  u1  u2  u3  u4  u5  u6  u7  u8  u9  u10\n",
      "0     g1   5   7   6   5   3   6   3   9  10    3\n",
      "1     g2   8   5   5  10   0   0   0   8   8    9\n",
      "2     g3  10   8   4   8   0   6   0  10   5    3\n",
      "3     g4   1   8   4   5   0   6   6   6  10    7\n",
      "4     g5   2   3   7   0   6   6   1   0   2    3\n",
      "     u1   u2   u3   u4   u5   u6   u7    u8   u9  u10\n",
      "g1  6.0  7.0  7.0  6.0  2.0  5.0  3.0   7.0  8.0  5.0\n",
      "g2  7.0  7.0  3.0  9.0  1.0  3.0  1.0  10.0  8.0  6.0\n",
      "g3  7.0  7.0  4.0  8.0  1.0  4.0  1.0   9.0  8.0  6.0\n",
      "g4  6.0  7.0  7.0  5.0  2.0  5.0  3.0   6.0  8.0  5.0\n",
      "g5  1.0  3.0  7.0  1.0  3.0  4.0  4.0   1.0  4.0  2.0\n",
      "g6  2.0  4.0  7.0  1.0  3.0  4.0  4.0   1.0  5.0  2.0\n",
      "\n",
      "{'g5': 3.0, 'g6': 3.0}\n"
     ]
    },
    {
     "name": "stderr",
     "output_type": "stream",
     "text": [
      "C:\\Users\\Vanessa\\AppData\\Local\\Temp\\ipykernel_26740\\1372353406.py:40: FutureWarning: Series.__getitem__ treating keys as positions is deprecated. In a future version, integer keys will always be treated as labels (consistent with DataFrame behavior). To access a value by position, use `ser.iloc[pos]`\n",
      "  top_genres = {indices[i]:ratings_target_u[i] for i in range(len(indices))}\n"
     ]
    }
   ],
   "source": [
    "target_u = \"u5\"\n",
    "df_genre_prediction, top_genres = GenreMatrixFactorization(\"genre_ratings.csv\", target_u, k=2)\n",
    "print(df_genre_prediction)\n",
    "print()\n",
    "print(top_genres)"
   ]
  },
  {
   "cell_type": "code",
   "execution_count": 15,
   "id": "e4fd063c",
   "metadata": {},
   "outputs": [
    {
     "name": "stdout",
     "output_type": "stream",
     "text": [
      "  genres  u1  u2  u3  u4  u5  u6  u7  u8  u9  u10\n",
      "0     g1   5   7   6   5   3   6   3   9  10    3\n",
      "1     g2   8   5   5  10   0   0   0   8   8    9\n",
      "2     g3  10   8   4   8   0   6   0  10   5    3\n",
      "3     g4   1   8   4   5   0   6   6   6  10    7\n",
      "4     g5   2   3   7   0   6   6   1   0   2    3\n"
     ]
    },
    {
     "name": "stderr",
     "output_type": "stream",
     "text": [
      "C:\\Users\\Vanessa\\AppData\\Local\\Temp\\ipykernel_26740\\1372353406.py:40: FutureWarning: Series.__getitem__ treating keys as positions is deprecated. In a future version, integer keys will always be treated as labels (consistent with DataFrame behavior). To access a value by position, use `ser.iloc[pos]`\n",
      "  top_genres = {indices[i]:ratings_target_u[i] for i in range(len(indices))}\n"
     ]
    },
    {
     "name": "stdout",
     "output_type": "stream",
     "text": [
      "     u1   u2   u3   u4   u5   u6   u7    u8   u9  u10\n",
      "g1  6.0  7.0  7.0  6.0  2.0  5.0  3.0   7.0  8.0  5.0\n",
      "g2  7.0  7.0  3.0  9.0  1.0  3.0  1.0  10.0  8.0  6.0\n",
      "g3  7.0  7.0  4.0  8.0  1.0  4.0  1.0   9.0  8.0  6.0\n",
      "g4  6.0  7.0  7.0  5.0  2.0  5.0  3.0   6.0  8.0  5.0\n",
      "g5  1.0  3.0  7.0  1.0  3.0  4.0  4.0   1.0  4.0  2.0\n",
      "g6  2.0  4.0  7.0  1.0  3.0  4.0  4.0   1.0  5.0  2.0\n",
      "\n",
      "{'g5': 3.0, 'g6': 3.0}\n"
     ]
    }
   ],
   "source": [
    "target_u = \"u5\"\n",
    "df_genre_prediction, top_genres = GenreMatrixFactorization(\"genre_ratings.csv\", target_u, k=2)\n",
    "print(df_genre_prediction)\n",
    "print()\n",
    "print(top_genres)"
   ]
  },
  {
   "cell_type": "code",
   "execution_count": null,
   "id": "6edd6f7d",
   "metadata": {},
   "outputs": [],
   "source": []
  },
  {
   "cell_type": "code",
   "execution_count": null,
   "id": "a83823a6",
   "metadata": {},
   "outputs": [],
   "source": []
  }
 ],
 "metadata": {
  "kernelspec": {
   "display_name": "Python 3 (ipykernel)",
   "language": "python",
   "name": "python3"
  },
  "language_info": {
   "codemirror_mode": {
    "name": "ipython",
    "version": 3
   },
   "file_extension": ".py",
   "mimetype": "text/x-python",
   "name": "python",
   "nbconvert_exporter": "python",
   "pygments_lexer": "ipython3",
   "version": "3.9.13"
  }
 },
 "nbformat": 4,
 "nbformat_minor": 5
}
