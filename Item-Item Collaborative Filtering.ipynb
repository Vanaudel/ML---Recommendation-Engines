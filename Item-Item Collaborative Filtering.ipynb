{
 "cells": [
  {
   "cell_type": "code",
   "execution_count": 3,
   "id": "2ddae4b3",
   "metadata": {},
   "outputs": [],
   "source": [
    "import pandas as pd\n",
    "import numpy as np\n",
    "import math\n",
    "from scipy.spatial import distance\n",
    "\n",
    "from IPython.core.interactiveshell import InteractiveShell\n",
    "InteractiveShell.ast_node_interactivity = \"all\""
   ]
  },
  {
   "cell_type": "code",
   "execution_count": 4,
   "id": "368f0066",
   "metadata": {},
   "outputs": [],
   "source": [
    "#Calculate the cosine similarity score between all user ratings of book one and all user raing of book two\n",
    "def calculate_sim_score_books(b1_user_ratings, b2_user_ratings):\n",
    "    numerator = np.dot(b1_user_ratings, b2_user_ratings)\n",
    "    denominator = math.sqrt(np.dot(b1_user_ratings, b1_user_ratings)) * math.sqrt(np.dot(b2_user_ratings, b2_user_ratings))\n",
    "    return round(numerator/denominator,2)    \n"
   ]
  },
  {
   "cell_type": "code",
   "execution_count": 5,
   "id": "f5b9dc25",
   "metadata": {},
   "outputs": [],
   "source": [
    "#Predict the rating for the target book as the weighted average of ratings from the most similar books, weighted\n",
    "#by their similarity scores\n",
    "def calculate_weighted_average(sim_scores, ratings):\n",
    "    return np.dot(sim_scores, ratings)/sum(sim_scores)"
   ]
  },
  {
   "cell_type": "code",
   "execution_count": 6,
   "id": "624c60ca",
   "metadata": {},
   "outputs": [],
   "source": [
    "#Item-Item Collaborative Filtering\n",
    "def CFItemToItem(csv_file_name, target_u, target_b, k_books=3):\n",
    "\n",
    "    #read the book ratings csv\n",
    "    book_ratings = pd.read_csv(csv_file_name)\n",
    "    \n",
    "    #get the target book index\n",
    "    target_b_index = int(target_b[-1]) - 1\n",
    "    \n",
    "    #Consider only the books that target user has rated\n",
    "    target_u_all_rated_books = list(book_ratings[target_u])\n",
    "    \n",
    "    dic_book_sim = {}\n",
    "    for index in range(len(target_u_all_rated_books)):\n",
    "        if target_u_all_rated_books[index] == 0:\n",
    "            dic_book_sim[\"b\" + str(index + 1)] = 0\n",
    "        elif index == target_b_index:\n",
    "            dic_book_sim[\"b\" + str(index + 1)] = 0\n",
    "        else:\n",
    "            \n",
    "            #calculate similarity between target book and target user rated book by considering only\n",
    "            #users who have rated book books\n",
    "            target_book_user_scores = list(book_ratings[book_ratings[\"books\"] == target_b].iloc[0])[1:]\n",
    "            target_user_book_ratings = list(book_ratings.iloc[index])[1:]\n",
    "            \n",
    "            #use cosing similarity to measure between books\n",
    "            sim_score_books = calculate_sim_score_books(target_book_user_scores, target_user_book_ratings)\n",
    "            dic_book_sim[\"b\" + str(index + 1)] = sim_score_books\n",
    "\n",
    "    #Extract the top 3 book ratings\n",
    "    sorted_dic_book_sim = dict(sorted(dic_book_sim.items(), key=lambda item: item[1], reverse=True)[:k_books])\n",
    "    sim_scores = list(sorted_dic_book_sim.values())\n",
    "    sorted_dic_book_sim_values_indices = [int(item[-1]) - 1 for item in list(sorted_dic_book_sim.keys())]\n",
    "    ratings = [target_u_all_rated_books[x] for x in sorted_dic_book_sim_values_indices]\n",
    "    weighted_average = round(calculate_weighted_average(sim_scores, ratings), 2)\n",
    "    \n",
    "    return sim_scores,ratings,dic_book_sim, sorted_dic_book_sim, weighted_average"
   ]
  },
  {
   "cell_type": "code",
   "execution_count": 8,
   "id": "b55aa7db",
   "metadata": {},
   "outputs": [
    {
     "name": "stdout",
     "output_type": "stream",
     "text": [
      "sim_scores\n"
     ]
    },
    {
     "data": {
      "text/plain": [
       "[0.85, 0.66, 0.64]"
      ]
     },
     "execution_count": 8,
     "metadata": {},
     "output_type": "execute_result"
    },
    {
     "name": "stdout",
     "output_type": "stream",
     "text": [
      "\n",
      " ratings\n"
     ]
    },
    {
     "data": {
      "text/plain": [
       "[3, 8, 1]"
      ]
     },
     "execution_count": 8,
     "metadata": {},
     "output_type": "execute_result"
    },
    {
     "name": "stdout",
     "output_type": "stream",
     "text": [
      "\n",
      " dic_book_sim\n"
     ]
    },
    {
     "data": {
      "text/plain": [
       "{'b1': 0,\n",
       " 'b2': 0,\n",
       " 'b3': 0.48,\n",
       " 'b4': 0.53,\n",
       " 'b5': 0.64,\n",
       " 'b6': 0.66,\n",
       " 'b7': 0.85,\n",
       " 'b8': 0.56}"
      ]
     },
     "execution_count": 8,
     "metadata": {},
     "output_type": "execute_result"
    },
    {
     "name": "stdout",
     "output_type": "stream",
     "text": [
      "\n",
      " sorted_dic_book_sim\n"
     ]
    },
    {
     "data": {
      "text/plain": [
       "{'b7': 0.85, 'b6': 0.66, 'b5': 0.64}"
      ]
     },
     "execution_count": 8,
     "metadata": {},
     "output_type": "execute_result"
    },
    {
     "name": "stdout",
     "output_type": "stream",
     "text": [
      "\n",
      " weighted_average\n"
     ]
    },
    {
     "data": {
      "text/plain": [
       "3.94"
      ]
     },
     "execution_count": 8,
     "metadata": {},
     "output_type": "execute_result"
    }
   ],
   "source": [
    "target_u, target_b = \"u5\", \"b2\" \n",
    "sim_scores,ratings,dic_book_sim, sorted_dic_book_sim, weighted_average = CFItemToItem(\"book_ratings.csv\", target_u, target_b, k_books=3)\n",
    "print(\"sim_scores\")\n",
    "sim_scores\n",
    "\n",
    "print(\"\\n ratings\")\n",
    "ratings\n",
    "\n",
    "print(\"\\n dic_book_sim\")\n",
    "dic_book_sim\n",
    "\n",
    "print(\"\\n sorted_dic_book_sim\")\n",
    "sorted_dic_book_sim\n",
    "\n",
    "print(\"\\n weighted_average\")\n",
    "weighted_average\n"
   ]
  }
 ],
 "metadata": {
  "kernelspec": {
   "display_name": "Python 3 (ipykernel)",
   "language": "python",
   "name": "python3"
  },
  "language_info": {
   "codemirror_mode": {
    "name": "ipython",
    "version": 3
   },
   "file_extension": ".py",
   "mimetype": "text/x-python",
   "name": "python",
   "nbconvert_exporter": "python",
   "pygments_lexer": "ipython3",
   "version": "3.9.13"
  }
 },
 "nbformat": 4,
 "nbformat_minor": 5
}
